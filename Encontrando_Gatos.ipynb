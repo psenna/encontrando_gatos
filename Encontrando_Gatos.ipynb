{
  "cells": [
    {
      "cell_type": "markdown",
      "metadata": {
        "id": "_c8yvv-q5JBP"
      },
      "source": [
        "## Instalando o detectron2\n"
      ]
    },
    {
      "cell_type": "code",
      "execution_count": null,
      "metadata": {
        "id": "FYGM5L5k1rUj"
      },
      "outputs": [],
      "source": [
        "!pip install pyyaml==5.1\n",
        "\n",
        "import torch\n",
        "TORCH_VERSION = \".\".join(torch.__version__.split(\".\")[:2])\n",
        "CUDA_VERSION = torch.__version__.split(\"+\")[-1]\n",
        "print(\"torch: \", TORCH_VERSION, \"; cuda: \", CUDA_VERSION)\n",
        "# Install detectron2 that matches the above pytorch version\n",
        "# See https://detectron2.readthedocs.io/tutorials/install.html for instructions\n",
        "!pip install detectron2 -f https://dl.fbaipublicfiles.com/detectron2/wheels/$CUDA_VERSION/torch$TORCH_VERSION/index.html"
      ]
    },
    {
      "cell_type": "code",
      "execution_count": null,
      "metadata": {
        "id": "WxIGGXnd60XI"
      },
      "outputs": [],
      "source": [
        "from detectron2 import model_zoo\n",
        "from detectron2.engine import DefaultPredictor\n",
        "from detectron2.config import get_cfg\n",
        "from detectron2.structures import Instances"
      ]
    },
    {
      "cell_type": "markdown",
      "metadata": {
        "id": "zg2SII975RVO"
      },
      "source": [
        "# Baixando a base de dados\n"
      ]
    },
    {
      "cell_type": "code",
      "execution_count": null,
      "metadata": {
        "id": "DW1jYuZ15cB-"
      },
      "outputs": [],
      "source": [
        "!wget \"https://github.com/psenna/encontrando_gatos/files/7610979/base_dados.zip\"\n",
        "!mkdir base_dados\n",
        "!unzip -d base_dados/ base_dados.zip "
      ]
    },
    {
      "cell_type": "markdown",
      "metadata": {
        "id": "dNpKs70Y6qaX"
      },
      "source": [
        "# Criando a classe para processar os vídeos"
      ]
    },
    {
      "cell_type": "code",
      "execution_count": null,
      "metadata": {
        "id": "kg2v6sFD7z-5"
      },
      "outputs": [],
      "source": [
        "import cv2\n",
        "import os"
      ]
    },
    {
      "cell_type": "code",
      "execution_count": null,
      "metadata": {
        "id": "b38gi3iJ8LEg"
      },
      "outputs": [],
      "source": [
        "CLASSE_GATOS = 15"
      ]
    },
    {
      "cell_type": "code",
      "execution_count": null,
      "metadata": {
        "id": "Y2XAsnwU7YYh"
      },
      "outputs": [],
      "source": [
        "class DetectNet:\n",
        "    def __init__(self) -> None:\n",
        "        self.cfg = get_cfg()\n",
        "\n",
        "        self.cfg.merge_from_file(model_zoo.get_config_file(\"COCO-Detection/faster_rcnn_R_50_FPN_3x.yaml\"))\n",
        "        self.cfg.MODEL.ROI_HEADS.SCORE_THRESH_TEST = 0.80  \n",
        "        \n",
        "        self.cfg.MODEL.WEIGHTS = model_zoo.get_checkpoint_url(\"COCO-Detection/faster_rcnn_R_50_FPN_3x.yaml\")\n",
        "        self.predictor = DefaultPredictor(self.cfg)\n",
        "        return\n",
        "\n",
        "    def processa_video(self, filename, path):\n",
        "        caminho_arquivo = path + filename\n",
        "        cap = cv2.VideoCapture(caminho_arquivo)\n",
        "        occurrences = 0\n",
        "        while(True):\n",
        "            ret, frame = cap.read()\n",
        "            if (frame is None):\n",
        "                break\n",
        "\n",
        "            if self.existem_gatos(frame):\n",
        "                print(f\"{filename} possui gatos\")\n",
        "                return\n",
        "\n",
        "        print(f\"{filename} não possui gatos\")\n",
        "\n",
        "    def existem_gatos(self, frame) -> bool:\n",
        "        deteccoes = self.predictor(frame)\n",
        "        instancias = deteccoes[\"instances\"].to(\"cpu\")\n",
        "        instancias = instancias[instancias.pred_classes == CLASSE_GATOS]\n",
        "        return len(instancias) >= 1"
      ]
    },
    {
      "cell_type": "markdown",
      "metadata": {
        "id": "v-kk_4vb8bIF"
      },
      "source": [
        "## Rodando o programa"
      ]
    },
    {
      "cell_type": "code",
      "execution_count": null,
      "metadata": {
        "colab": {
          "background_save": true
        },
        "id": "whReeWFe8i6d"
      },
      "outputs": [],
      "source": [
        "DIRETORIO = \"./base_dados/\"\n",
        "\n",
        "detectnet = DetectNet()\n",
        "\n",
        "lista_arquivos = os.listdir(DIRETORIO)\n",
        "total = len(lista_arquivos)\n",
        "\n",
        "for index, nome_arquivo in enumerate(lista_arquivos):\n",
        "    print(f\"{index+1}/{total} - \" + nome_arquivo)\n",
        "    detectnet.processa_video(nome_arquivo, DIRETORIO)"
      ]
    }
  ],
  "metadata": {
    "accelerator": "GPU",
    "colab": {
      "collapsed_sections": [],
      "name": "Encontrando Gatos",
      "provenance": []
    },
    "kernelspec": {
      "display_name": "Python 3",
      "name": "python3"
    },
    "language_info": {
      "name": "python"
    }
  },
  "nbformat": 4,
  "nbformat_minor": 0
}
